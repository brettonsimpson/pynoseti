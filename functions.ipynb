{
 "cells": [
  {
   "cell_type": "code",
   "execution_count": 1,
   "id": "652dd7b3-6edd-4ad8-bcf2-5589128fa886",
   "metadata": {},
   "outputs": [],
   "source": [
    "import numpy as np\n",
    "import matplotlib.pyplot as plt\n",
    "import pcapng\n",
    "from pcapng import FileScanner\n",
    "import os\n",
    "from IPython.display import display, clear_output\n",
    "import time"
   ]
  },
  {
   "cell_type": "code",
   "execution_count": 2,
   "id": "484439cb-f7d0-4b92-86aa-acc988e2b160",
   "metadata": {
    "tags": []
   },
   "outputs": [],
   "source": [
    "def separated_hex_values(packet):\n",
    "    '''\n",
    "    This function reads in a list of hexadecimal packet data, without spaces between each pair of characters,\n",
    "    and separates each hexadecimal value and assings them to a list so that they can be iterated over within\n",
    "    a loop for further processing.\n",
    "    '''\n",
    "    separated_hexadecimal_array = []\n",
    "    packet_length = len(packet)\n",
    "    i = 0\n",
    "    j = 1\n",
    "    for character in packet:\n",
    "        if j < packet_length:\n",
    "            separated_hexadecimal_array.append(packet[i]+packet[j])\n",
    "            i += 2\n",
    "            j += 2    \n",
    "    return separated_hexadecimal_array\n",
    "# Reads the raw hexadecimal data string for a packet and encodes it into a list of hexadecimal values."
   ]
  },
  {
   "cell_type": "code",
   "execution_count": 3,
   "id": "9e635cff-63ec-4f23-8f8e-fc09b31289f3",
   "metadata": {},
   "outputs": [],
   "source": [
    "def hexadecimal_to_decimal(hexadecimal_array):\n",
    "    '''\n",
    "    This function reads the hexadecimal value list for a packet and converts each into decimal form.\n",
    "    '''\n",
    "    decimal_array = []\n",
    "    for element in hexadecimal_array:\n",
    "        decimal_array.append(int(element, 16))\n",
    "    return decimal_array\n",
    "# Converts the separated hexadecimal array into a decimal array."
   ]
  },
  {
   "cell_type": "code",
   "execution_count": 4,
   "id": "e7027942-cc61-4524-a97b-a408244bc697",
   "metadata": {},
   "outputs": [],
   "source": [
    "def decimal_converted_packet(packet):\n",
    "    '''\n",
    "    This function performs the operations for both the 'separated_hex_values' and 'convert_hexadecimal_to_decimal'\n",
    "    functions on a packet.\n",
    "    '''\n",
    "    return hexadecimal_to_decimal(separated_hex_values(packet))\n",
    "# Performs the function of the 'separated_hex_values' function and then performs the 'convert_hexadecimal_to_decimal' \n",
    "# function on the same data."
   ]
  },
  {
   "cell_type": "code",
   "execution_count": 5,
   "id": "79e4ce29-8f18-414b-a511-bbf55131a55f",
   "metadata": {},
   "outputs": [],
   "source": [
    "def isolate_packet_pixel_data(packet_data):\n",
    "    '''\n",
    "    This function removes non-pixel data from the list of integer values. For science images, this means the first\n",
    "    16 values are removed.\n",
    "    '''\n",
    "    converted_packet_data = decimal_converted_packet(packet_data)\n",
    "    return converted_packet_data[58:]\n",
    "# Returns a decimal array for the packet data excluding the first 16 elements, which do not correspond to science packet\n",
    "# pixel data."
   ]
  },
  {
   "cell_type": "code",
   "execution_count": 6,
   "id": "cd24c329-fdfc-4f6b-9217-90322c1b0cba",
   "metadata": {},
   "outputs": [],
   "source": [
    "def isolate_packet_data(packet_data):\n",
    "    converted_packet_data = decimal_converted_packet(packet_data)\n",
    "    return converted_packet_data[42:]\n",
    "\n",
    "# The Wireshark capture files are 570 bytes in size. The pixel data are stored in the last 528 bytes of the capture.\n",
    "# Therefore, I am subtracting the first 58 bytes of the capture file because they do not correspond to pixel data.\n",
    "# This must be done in combination with the subtraction of the first 16 elements of each packet."
   ]
  },
  {
   "cell_type": "code",
   "execution_count": 7,
   "id": "76b15f97-90af-4f5f-b89f-df722c3bc35a",
   "metadata": {},
   "outputs": [],
   "source": [
    "def convert_integer_to_binary(integer):\n",
    "    binary_array = []\n",
    "    bit_number = 0\n",
    "    quotient = integer\n",
    "    \n",
    "    while bit_number <= 7:\n",
    "        binary_array.append(quotient%2)\n",
    "        quotient = int(quotient/2)\n",
    "        bit_number += 1\n",
    "\n",
    "    return binary_array"
   ]
  },
  {
   "cell_type": "code",
   "execution_count": 8,
   "id": "13eb2eae-1d3b-405b-b6f5-a9611adfd38f",
   "metadata": {},
   "outputs": [],
   "source": [
    "def convert_packet_array_to_8bit_binary(packet):\n",
    "    packet_binary_array_8bit = []\n",
    "    for element in isolate_packet_pixel_data(packet):\n",
    "        packet_binary_array_8bit.append(convert_integer_to_binary(element))\n",
    "                \n",
    "    return packet_binary_array_8bit"
   ]
  },
  {
   "cell_type": "code",
   "execution_count": 9,
   "id": "46b4a1c3-075b-4631-8a4e-f7cb14c4c073",
   "metadata": {},
   "outputs": [],
   "source": [
    "def convert_integer_to_binary(integer):\n",
    "    binary_array = []\n",
    "    bit_number = 0\n",
    "    quotient = integer\n",
    "    \n",
    "    while bit_number <= 7:\n",
    "        binary_array.append(quotient%2)\n",
    "        quotient = int(quotient/2)\n",
    "        bit_number += 1\n",
    "\n",
    "    return binary_array"
   ]
  },
  {
   "cell_type": "code",
   "execution_count": 10,
   "id": "ccd46740-5666-45c8-8bb2-d4295097e5b8",
   "metadata": {},
   "outputs": [],
   "source": [
    "def convert_packet_array_to_8bit_binary(packet):\n",
    "    packet_binary_array_8bit = []\n",
    "    for element in isolate_packet_pixel_data(packet):\n",
    "        packet_binary_array_8bit.append(convert_integer_to_binary(element))\n",
    "                \n",
    "    return packet_binary_array_8bit"
   ]
  },
  {
   "cell_type": "code",
   "execution_count": 11,
   "id": "2a7814d7-8aa5-48ed-a326-be16eaa448ad",
   "metadata": {},
   "outputs": [],
   "source": [
    "def concatenate_pixel_data_streams(packet):\n",
    "    even_array = []\n",
    "    odd_array = []\n",
    "    combined_array = []\n",
    "    \n",
    "    i = 0\n",
    "    \n",
    "    for element in convert_packet_array_to_8bit_binary(packet):\n",
    "    \n",
    "        if i%2 == 0:\n",
    "            even_array.append(element)\n",
    "        if i%2 == 1:\n",
    "            odd_array.append(element)\n",
    "\n",
    "        i += 1\n",
    "    i = 0\n",
    "    \n",
    "    #even_array = even_array[::-1]\n",
    "    #odd_array = odd_array[::-1]\n",
    "\n",
    "    for element in even_array:\n",
    "        combined_array.append(odd_array[i][::-1] + even_array[i][::-1])\n",
    "        #  ** * * * ** * * Flipping the arrays and concatenating them in accordance with the Quabo packet interface information ******* * ** * ** * *\n",
    "\n",
    "        i += 1\n",
    "    \n",
    "    return combined_array"
   ]
  },
  {
   "cell_type": "code",
   "execution_count": 12,
   "id": "bc488386-63b3-4c63-9205-c119e242aad9",
   "metadata": {},
   "outputs": [],
   "source": [
    "def convert_16bit_binary_to_integer(number):\n",
    "    \n",
    "    i = 15\n",
    "    integer = 0\n",
    "    \n",
    "    for element in number:\n",
    "        integer += (int(element)*(2**i))\n",
    "        i -= 1\n",
    "    \n",
    "    return integer"
   ]
  },
  {
   "cell_type": "code",
   "execution_count": 13,
   "id": "6422af2b-b728-4011-a78f-502ac110719f",
   "metadata": {},
   "outputs": [],
   "source": [
    "def concatenate_streams_and_convert_to_integer(packet):\n",
    "    \n",
    "    concatenated_array = []\n",
    "    for element in concatenate_pixel_data_streams(packet):\n",
    "        concatenated_array.append(convert_16bit_binary_to_integer(element))\n",
    "        \n",
    "    return concatenated_array"
   ]
  },
  {
   "cell_type": "code",
   "execution_count": 14,
   "id": "1e5136ee-aaa7-4ca4-b547-4cd58c26d942",
   "metadata": {},
   "outputs": [],
   "source": [
    "def row_splitter(packet):\n",
    "    \n",
    "    image = []\n",
    "    full_array = []\n",
    "    counter = 0\n",
    "    \n",
    "    for element in concatenate_pixel_data_streams(packet):\n",
    "        full_array.append(convert_16bit_binary_to_integer(element))\n",
    "    row_array = []\n",
    "    \n",
    "    for element in full_array:\n",
    "        if counter == 15:\n",
    "            image.append(row_array)\n",
    "            row_array.append(element)\n",
    "            row_array = []\n",
    "            counter = 0\n",
    "        else:\n",
    "            row_array.append(element)\n",
    "            counter += 1\n",
    "            \n",
    "    return image\n",
    "\n",
    "#creates a 2D array with 16 rows of 16 elements (pixel data to be plotted)"
   ]
  },
  {
   "cell_type": "code",
   "execution_count": 15,
   "id": "093b6a4a-5359-4682-ab2d-e17f6a8ce0bf",
   "metadata": {},
   "outputs": [],
   "source": [
    "def get_image_source_ip(packet):\n",
    "    return str(decimal_converted_packet(packet)[26])+'.'+str(decimal_converted_packet(packet)[27])+'.'+str(decimal_converted_packet(packet)[28])+'.'+str(decimal_converted_packet(packet)[29])"
   ]
  },
  {
   "cell_type": "code",
   "execution_count": 16,
   "id": "6e46fc39-8b3e-427b-822e-4005c91d3922",
   "metadata": {
    "tags": []
   },
   "outputs": [],
   "source": [
    "def image_plotter(image):\n",
    "    if len(image.data) > 0:\n",
    "        plt.title(str(image.name))\n",
    "        plt.imshow(image.data)\n",
    "        plt.show()\n",
    "    #plt.close()"
   ]
  },
  {
   "cell_type": "code",
   "execution_count": 17,
   "id": "e5e06396-da2e-4314-85a0-ea726e7041c9",
   "metadata": {
    "tags": []
   },
   "outputs": [],
   "source": [
    "def loading_old():\n",
    "    \n",
    "    complete = False\n",
    "    \n",
    "    while True:\n",
    "        print(\"Loading |\", end = \"\\r\")\n",
    "        time.sleep(0.25)\n",
    "        #clear_output(wait=True)\n",
    "        print(\"Loading /\", end = \"\\r\")\n",
    "        time.sleep(0.25)\n",
    "        #clear_output(wait=True)\n",
    "        print(\"Loading —\", end = \"\\r\")\n",
    "        time.sleep(0.25)\n",
    "        #clear_output(wait=True)\n",
    "        print(\"Loading \\\\\", end = \"\\r\")\n",
    "        time.sleep(0.25)\n",
    "        #clear_output(wait=True)\n",
    "        \n",
    "        if complete == True:\n",
    "            return\n"
   ]
  },
  {
   "cell_type": "code",
   "execution_count": 18,
   "id": "1a93a53e-c5aa-44fb-9cec-dcf2eb50fb29",
   "metadata": {},
   "outputs": [],
   "source": [
    "def loading_complete():\n",
    "    return"
   ]
  },
  {
   "cell_type": "code",
   "execution_count": null,
   "id": "9c9319cc-e8e3-4963-b3c0-f7d98f2f1e7e",
   "metadata": {},
   "outputs": [],
   "source": [
    "def list_loading(list_input, counter):\n",
    "    \n",
    "    if counter == 0:\n",
    "        print(\"Loading [....................]\", end = \"\\r\")\n",
    "    if counter == len(list_input)/20:\n",
    "        print(\"Loading [|...................]\", end = \"\\r\")\n",
    "    if counter == 2*len(list_input)/20:\n",
    "        print(\"Loading [||..................]\", end = \"\\r\")\n",
    "    if counter == 3*len(list_input)/20:\n",
    "        print(\"Loading [|||.................]\", end = \"\\r\")\n",
    "    if counter == 4*len(list_input)/20:\n",
    "        print(\"Loading [||||................]\", end = \"\\r\")\n",
    "    if counter == 5*len(list_input)/20:\n",
    "        print(\"Loading [|||||...............]\", end = \"\\r\")\n",
    "    if counter == 6*len(list_input)/20:\n",
    "        print(\"Loading [||||||..............]\", end = \"\\r\")\n",
    "    if counter == 7*len(list_input)/20:\n",
    "        print(\"Loading [|||||||.............]\", end = \"\\r\")\n",
    "    if counter == 8*len(list_input)/20:\n",
    "        print(\"Loading [||||||||............]\", end = \"\\r\")\n",
    "    if counter == 9*len(list_input)/20:\n",
    "        print(\"Loading [|||||||||...........]\", end = \"\\r\")\n",
    "    if counter == 10*len(list_input)/20:\n",
    "        print(\"Loading [||||||||||..........]\", end = \"\\r\")\n",
    "    if counter == 11*len(list_input)/20:\n",
    "        print(\"Loading [|||||||||||.........]\", end = \"\\r\")\n",
    "    if counter == 12*len(list_input)/20:\n",
    "        print(\"Loading [||||||||||||........]\", end = \"\\r\")\n",
    "    if counter == 13*len(list_input)/20:\n",
    "        print(\"Loading [|||||||||||||.......]\", end = \"\\r\")\n",
    "    if counter == 14*len(list_input)/20:\n",
    "        print(\"Loading [||||||||||||||......]\", end = \"\\r\")\n",
    "    if counter == 15*len(list_input)/20:\n",
    "        print(\"Loading [|||||||||||||||.....]\", end = \"\\r\")\n",
    "    if counter == 16*len(list_input)/20:\n",
    "        print(\"Loading [||||||||||||||||....]\", end = \"\\r\")\n",
    "    if counter == 17*len(list_input)/20:\n",
    "        print(\"Loading [|||||||||||||||||...]\", end = \"\\r\")\n",
    "    if counter == 18*len(list_input)/20:\n",
    "        print(\"Loading [||||||||||||||||||..]\", end = \"\\r\")\n",
    "    if counter == 19*len(list_input)/20:\n",
    "        print(\"Loading [|||||||||||||||||||.]\", end = \"\\r\")\n",
    "    if counter == 20*len(list_input)/20-1:\n",
    "        print(\"Loading Complete! [||||||||||||||||||||]\", end = \"\\r\")"
   ]
  }
 ],
 "metadata": {
  "kernelspec": {
   "display_name": "Python 3 (ipykernel)",
   "language": "python",
   "name": "python3"
  },
  "language_info": {
   "codemirror_mode": {
    "name": "ipython",
    "version": 3
   },
   "file_extension": ".py",
   "mimetype": "text/x-python",
   "name": "python",
   "nbconvert_exporter": "python",
   "pygments_lexer": "ipython3",
   "version": "3.11.5"
  }
 },
 "nbformat": 4,
 "nbformat_minor": 5
}
