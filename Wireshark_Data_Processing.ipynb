{
 "cells": [
  {
   "cell_type": "code",
   "execution_count": 1,
   "id": "f3b79cbc-b74f-46eb-ba53-9116c1f0a14e",
   "metadata": {},
   "outputs": [],
   "source": [
    "import numpy as np\n",
    "import matplotlib.pyplot as plt\n",
    "import pcapng\n",
    "from pcapng import FileScanner"
   ]
  },
  {
   "cell_type": "code",
   "execution_count": 2,
   "id": "0450c955-2bd3-4788-b822-de730bbe0485",
   "metadata": {
    "tags": []
   },
   "outputs": [],
   "source": [
    "packet_array = []\n",
    "# Declares the list that will hold the hexadecimal data for each packet.\n",
    "\n",
    "###########################################################\n",
    "path = \"C:/Users/brett/OneDrive/School/UCSD/OIR Lab/Pause_onskyph0pe_ima0pe__20230426_040905.pcapng\"\n",
    "# Specifies the path to the file to be used in processing.\n",
    "# Don't forget to change when using a new file.\n",
    "###########################################################\n",
    "\n",
    "with open(path, 'rb') as file:\n",
    "    scanner = FileScanner(file)\n",
    "    for block in scanner:\n",
    "        if isinstance(block, pcapng.blocks.EnhancedPacket):\n",
    "            # Checks, while iterating over each block, if it is of the EnchancedPacket data type. If so,\n",
    "            # its hexadecimal packet data is stored in 'packet_array'.\n",
    "            \n",
    "            packet = block.packet_data\n",
    "            hex_data = packet.hex()\n",
    "            packet_array.append(hex_data)"
   ]
  },
  {
   "cell_type": "code",
   "execution_count": 3,
   "id": "f1a3e842-b823-4fd0-a9b8-ecf4a11b551d",
   "metadata": {},
   "outputs": [],
   "source": [
    "def separated_hex_values(packet):\n",
    "    '''\n",
    "    This function reads in a list of hexadecimal packet data, without spaces between each pair of characters,\n",
    "    and separates each hexadecimal value and assings them to a list so that they can be iterated over within\n",
    "    a loop for further processing.\n",
    "    '''\n",
    "    separated_hexadecimal_array = []\n",
    "    packet_length = len(packet)\n",
    "    i = 0\n",
    "    j = 1\n",
    "    for character in packet:\n",
    "        if j < packet_length:\n",
    "            separated_hexadecimal_array.append(packet[i]+packet[j])\n",
    "            i += 2\n",
    "            j += 2    \n",
    "    return separated_hexadecimal_array\n",
    "# Reads the raw hexadecimal data string for a packet and encodes it into a list of hexadecimal values.\n",
    "\n",
    "def convert_hexadecimal_to_decimal(hexadecimal_array):\n",
    "    '''\n",
    "    This function reads the hexadecimal value list for a packet and converts each into decimal form.\n",
    "    '''\n",
    "    decimal_array = []\n",
    "    for element in hexadecimal_array:\n",
    "        decimal_array.append(int(element, 16))\n",
    "    return decimal_array\n",
    "# Converts the separated hexadecimal array into a decimal array.\n",
    "\n",
    "def decimal_converted_packet(packet):\n",
    "    '''\n",
    "    This function performs the operations for both the 'separated_hex_values' and 'convert_hexadecimal_to_decimal'\n",
    "    functions on a packet.\n",
    "    '''\n",
    "    return convert_hexadecimal_to_decimal(separated_hex_values(packet))\n",
    "# Performs the function of the 'separated_hex_values' function and then performs the 'convert_hexadecimal_to_decimal' \n",
    "# function on the same data.\n",
    "\n",
    "def isolate_packet_pixel_data(packet_data):\n",
    "    '''\n",
    "    This function removes non-pixel data from the list of integer values. For science images, this means the first\n",
    "    16 values are removed.\n",
    "    '''\n",
    "    converted_packet_data = decimal_converted_packet(packet_data)\n",
    "    return converted_packet_data[16:]\n",
    "# Returns a decimal array for the packet data excluding the first 15 elements, which do not correspond to science packet\n",
    "# pixel data."
   ]
  },
  {
   "cell_type": "code",
   "execution_count": 10,
   "id": "167c30b5-095d-420e-8700-a17284c83968",
   "metadata": {},
   "outputs": [
    {
     "name": "stdout",
     "output_type": "stream",
     "text": [
      "277\n"
     ]
    }
   ],
   "source": [
    "print(len(separated_hex_values(isolate_packet_pixel_data(testing_packet1))))"
   ]
  },
  {
   "cell_type": "code",
   "execution_count": 4,
   "id": "16d9ccbc-f695-43f0-b901-e84d838a09a9",
   "metadata": {},
   "outputs": [
    {
     "name": "stdout",
     "output_type": "stream",
     "text": [
      "[2, 44, 203, 172, 0, 0, 255, 17, 107, 89, 192, 168, 0, 4, 192, 168, 1, 102, 192, 1, 234, 97, 2, 24, 144, 113, 3, 0, 172, 203, 4, 0, 6, 0, 0, 0, 252, 127, 0, 45, 0, 0, 240, 20, 74, 19, 202, 23, 46, 21, 94, 18, 93, 18, 43, 20, 199, 22, 101, 22, 128, 19, 216, 20, 22, 19, 198, 17, 217, 21, 76, 20, 212, 21, 154, 17, 80, 21, 210, 20, 75, 21, 13, 19, 186, 21, 137, 15, 9, 18, 196, 18, 236, 18, 236, 22, 191, 20, 59, 22, 6, 23, 115, 19, 150, 20, 112, 18, 152, 18, 86, 18, 43, 17, 180, 21, 57, 21, 127, 22, 57, 30, 94, 24, 84, 22, 113, 21, 30, 19, 3, 17, 233, 19, 204, 21, 125, 22, 223, 17, 11, 21, 152, 21, 172, 25, 66, 22, 71, 29, 155, 21, 32, 18, 184, 24, 243, 23, 70, 18, 124, 25, 7, 17, 230, 16, 183, 20, 99, 22, 83, 22, 91, 17, 159, 25, 218, 22, 130, 21, 187, 23, 72, 17, 184, 16, 229, 21, 56, 24, 64, 19, 32, 23, 40, 23, 59, 25, 35, 25, 152, 19, 2, 21, 123, 19, 34, 22, 7, 22, 66, 17, 98, 19, 170, 16, 190, 16, 143, 19, 206, 16, 165, 22, 176, 17, 84, 20, 1, 22, 79, 23, 245, 14, 5, 30, 121, 26, 173, 20, 251, 25, 44, 25, 127, 19, 33, 19, 62, 20, 192, 18, 135, 23, 224, 18, 125, 21, 121, 20, 174, 17, 193, 23, 138, 26, 114, 19, 134, 26, 114, 20, 190, 25, 161, 25, 161, 22, 68, 19, 59, 23, 22, 23, 188, 21, 7, 22, 248, 18, 1, 19, 66, 22, 174, 20, 105, 20, 93, 22, 175, 24, 206, 20, 178, 19, 217, 20, 171, 20, 70, 18, 39, 12, 191, 14, 251, 19, 220, 16, 246, 17, 111, 23, 102, 21, 23, 21, 226, 13, 65, 20, 212, 22, 137, 23, 169, 23, 92, 18, 40, 21, 31, 19, 83, 20, 120, 15, 119, 22, 90, 20, 91, 21, 240, 18, 39, 19, 90, 15, 39, 22, 137, 16, 197, 20, 137, 16, 137, 20, 35, 24, 33, 22, 35, 24, 3, 24, 47, 17, 87, 18, 47, 17, 47, 21, 151, 20, 0, 19, 151, 20, 151, 20, 241, 19, 127, 22, 202, 17, 223, 22, 193, 27, 25, 25, 73, 15, 43, 23, 180, 25, 223, 20, 164, 11, 145, 19, 31, 17, 201, 21, 251, 20, 49, 23, 78, 25, 133, 14, 212, 19, 149, 18, 137, 23, 81, 19, 178, 18, 229, 16, 129, 21, 188, 19, 40, 23, 174, 18, 158, 19, 37, 17, 69, 22, 202, 17, 138, 21, 12, 17, 251, 17, 36, 22, 72, 19, 5, 25, 118, 19, 130, 19, 178, 20, 100, 19, 143, 15, 114, 18, 177, 17, 233, 21, 62, 19, 245, 19, 84, 22, 94, 19, 204, 22, 31, 21, 24, 17, 224, 21, 152, 18, 202, 23, 12, 16, 95, 21, 104, 25, 13, 17, 131, 18, 135, 20, 235, 17, 218, 16, 187, 27, 55, 27, 136, 18, 206, 19, 235, 19, 6, 24, 71, 27, 200, 19, 5, 19, 216, 23, 15, 19, 35, 25, 153, 20, 189, 20, 190, 17, 150, 22] \n",
      "\n",
      "554\n"
     ]
    }
   ],
   "source": [
    "# Testing the functions...\n",
    "\n",
    "testing_packet1 = packet_array[1]\n",
    "testing_packet2 = packet_array[27001]\n",
    "testing_packet3 = packet_array[526]\n",
    "testing_packet4 = packet_array[12654]\n",
    "# Randomly selected packets used for testing the functions defined above.\n",
    "\n",
    "print(isolate_packet_pixel_data(testing_packet1), '\\n')\n",
    "#print(isolate_packet_pixel_data(testing_packet2))\n",
    "\n",
    "print(len(isolate_packet_pixel_data(testing_packet1)))"
   ]
  },
  {
   "cell_type": "code",
   "execution_count": 5,
   "id": "d7ed0b79-d2e0-4ae0-a86e-c9ff56cd822e",
   "metadata": {},
   "outputs": [],
   "source": [
    "file_packet_integer_data = []\n",
    "for element in packet_array:\n",
    "    file_packet_integer_data.append(isolate_packet_pixel_data(element))"
   ]
  },
  {
   "cell_type": "code",
   "execution_count": 6,
   "id": "9129b98b-e1e3-46a5-85b0-5e7323ebc15a",
   "metadata": {},
   "outputs": [
    {
     "name": "stdout",
     "output_type": "stream",
     "text": [
      "[1, 1, 0, 1, 0, 1, 1, 0] [1, 0, 0, 1, 1, 0, 1, 0]\n",
      "\n",
      "\n",
      "[0, 1, 0, 0, 0, 0, 0, 0, 0, 0, 1, 1, 0, 1, 0, 0]\n",
      "554\n"
     ]
    }
   ],
   "source": [
    "def convert_integer_to_binary(integer):\n",
    "    binary_array = []\n",
    "    bit_number = 0\n",
    "    quotient = integer\n",
    "    \n",
    "    while bit_number <= 7:\n",
    "        binary_array.append(quotient%2)\n",
    "        quotient = int(quotient/2)\n",
    "        bit_number += 1\n",
    "\n",
    "    return binary_array\n",
    "\n",
    "\n",
    "def convert_packet_array_to_8bit_binary(packet):\n",
    "    packet_binary_array_8bit = []\n",
    "    for element in isolate_packet_pixel_data(packet):\n",
    "        packet_binary_array_8bit.append(convert_integer_to_binary(element))\n",
    "                \n",
    "    return packet_binary_array_8bit\n",
    "   \n",
    "\n",
    "def concatenate_two_8bit_binary_numbers_ONE_PAIR(packet):\n",
    "    binary_number_16bit = []\n",
    "    \n",
    "    i = 0\n",
    "    j = 1\n",
    "\n",
    "    for number in convert_packet_array_to_8bit_binary(packet)[i]:\n",
    "        binary_number_16bit.append(number)\n",
    "\n",
    "        i += 1\n",
    "\n",
    "    for number in convert_packet_array_to_8bit_binary(packet)[j]:\n",
    "        binary_number_16bit.append(number)\n",
    "\n",
    "        j += 1\n",
    "  \n",
    "    return binary_number_16bit\n",
    "\n",
    "\n",
    "def concatenate_two_8bit_binary_numbers_FULL_PACKET(packet):\n",
    "    binary_number_16bit_array = []\n",
    "    \n",
    "    i = 0\n",
    "    j = 1\n",
    "    \n",
    "    max_index = len(convert_packet_array_to_8bit_binary(packet))-1\n",
    "    \n",
    "\n",
    "    for element in packet:\n",
    "        binary_number_16bit_array.append(convert_packet_array_to_8bit_binary(testing_packet1))\n",
    "        \n",
    "        #print(binary_number_16bit_array[i])\n",
    "        #print(j)\n",
    "        i += 2\n",
    "        \n",
    "    return binary_number_16bit_array\n",
    "\n",
    "\n",
    "    \n",
    "    \n",
    "#print(concatenate_two_8bit_binary_numbers(testing_packet1))\n",
    "\n",
    "#print(convert_packet_array_to_8bit_binary(testing_packet1)[7])\n",
    "\n",
    "#print(concatenate_two_8bit_binary_numbers(testing_packet1))\n",
    "#print(len(concatenate_two_8bit_binary_numbers(testing_packet1)))\n",
    "\n",
    "print(convert_packet_array_to_8bit_binary(testing_packet1)[8], convert_packet_array_to_8bit_binary(testing_packet1)[9])\n",
    "print('\\n')\n",
    "print(convert_packet_array_to_8bit_binary(testing_packet1)[0]+convert_packet_array_to_8bit_binary(testing_packet1)[1])\n",
    "\n",
    "\n",
    "\n",
    "#print(len(convert_packet_array_to_8bit_binary(testing_packet1)))\n",
    "\n",
    "#print(concatenate_two_8bit_binary_numbers_FULL_PACKET(testing_packet1)[20])\n",
    "\n",
    "\n",
    "print(len(\n",
    "\n",
    "    convert_packet_array_to_8bit_binary(testing_packet1)\n",
    "\n",
    "\n",
    "))"
   ]
  },
  {
   "cell_type": "code",
   "execution_count": 7,
   "id": "5f5c512d-96e0-4ef3-9a64-2867f7c47afb",
   "metadata": {},
   "outputs": [
    {
     "name": "stdout",
     "output_type": "stream",
     "text": [
      "277\n"
     ]
    }
   ],
   "source": [
    "def concatenate_pixel_data_streams(packet):\n",
    "    even_array = []\n",
    "    odd_array = []\n",
    "    combined_array = []\n",
    "    \n",
    "    i = 0\n",
    "    \n",
    "    for element in convert_packet_array_to_8bit_binary(packet):\n",
    "    \n",
    "        if i%2 == 0:\n",
    "            even_array.append(element)\n",
    "\n",
    "        if i%2 == 1:\n",
    "            odd_array.append(element)\n",
    "\n",
    "        i += 1\n",
    "        \n",
    "    i = 0\n",
    "\n",
    "    for element in even_array:\n",
    "        combined_array.append(even_array[i] + odd_array[i])\n",
    "\n",
    "        i += 1\n",
    "    \n",
    "    \n",
    "    return combined_array\n",
    "\n",
    "\n",
    "def convert_16bit_binary_to_integer(number):\n",
    "    \n",
    "    i = 15\n",
    "    integer = 0\n",
    "    \n",
    "    for element in number:\n",
    "        integer += (int(element)*(2**i))\n",
    "        i -= 1\n",
    "    \n",
    "    return integer\n",
    "\n",
    "test = []\n",
    "for element in concatenate_pixel_data_streams(testing_packet1):\n",
    "    test.append(convert_16bit_binary_to_integer(element))\n",
    "    \n",
    "print(len(test))"
   ]
  },
  {
   "cell_type": "code",
   "execution_count": 8,
   "id": "cb355725-2a38-43ee-8d3f-d5e7c71f45a1",
   "metadata": {},
   "outputs": [
    {
     "name": "stdout",
     "output_type": "stream",
     "text": [
      "554\n"
     ]
    }
   ],
   "source": [
    "print(len(isolate_packet_pixel_data(testing_packet1)))"
   ]
  },
  {
   "cell_type": "markdown",
   "id": "0ad14f08-8d83-4612-8ada-45c54b7eaa13",
   "metadata": {},
   "source": [
    "reconvert payload offset 2 and 3 into binary\n",
    "put them together\n",
    "put into 16-bit integer\n",
    "combine 8-bit streams for each pixel together in 16-bit\n",
    "reconvert back to decimal"
   ]
  }
 ],
 "metadata": {
  "kernelspec": {
   "display_name": "Python 3 (ipykernel)",
   "language": "python",
   "name": "python3"
  },
  "language_info": {
   "codemirror_mode": {
    "name": "ipython",
    "version": 3
   },
   "file_extension": ".py",
   "mimetype": "text/x-python",
   "name": "python",
   "nbconvert_exporter": "python",
   "pygments_lexer": "ipython3",
   "version": "3.10.9"
  }
 },
 "nbformat": 4,
 "nbformat_minor": 5
}
