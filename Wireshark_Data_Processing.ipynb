{
 "cells": [
  {
   "cell_type": "code",
   "execution_count": 1,
   "id": "f3b79cbc-b74f-46eb-ba53-9116c1f0a14e",
   "metadata": {},
   "outputs": [],
   "source": [
    "import numpy as np\n",
    "import matplotlib.pyplot as plt\n",
    "import pcapng\n",
    "from pcapng import FileScanner\n",
    "import os\n",
    "from IPython.display import display, clear_output\n",
    "import time\n",
    "import jax.numpy as jnp"
   ]
  },
  {
   "cell_type": "code",
   "execution_count": 2,
   "id": "6cbabbfe-66ad-4cd4-9674-d84c4b04b421",
   "metadata": {},
   "outputs": [],
   "source": [
    "# need to pip install python-pcapng\n",
    "# check that directory has forward slashes, not back slashes"
   ]
  },
  {
   "cell_type": "code",
   "execution_count": 3,
   "id": "0450c955-2bd3-4788-b822-de730bbe0485",
   "metadata": {
    "tags": []
   },
   "outputs": [],
   "source": [
    "packet_array = []\n",
    "# Declares the list that will hold the hexadecimal data for each packet.\n",
    "\n",
    "###########################################################\n",
    "path = \"C:/Users/brett/OneDrive/Code/Python/OIR Lab/Pause_onskyph0pe_ima0pe__20230426_040905.pcapng\"\n",
    "path = \"/home/brett/Data_for_pynoseti/Pause_onskyph0pe_ima0pe__20230426_040905.pcapng\"\n",
    "# Specifies the path to the file to be used in processing.\n",
    "# Don't forget to change when using a new file.\n",
    "###########################################################\n",
    "\n",
    "with open(path, 'rb') as file:\n",
    "    scanner = FileScanner(file)\n",
    "    for block in scanner:\n",
    "        if isinstance(block, pcapng.blocks.EnhancedPacket):\n",
    "            # Checks, while iterating over each block, if it is of the EnchancedPacket data type. If so,\n",
    "            # its hexadecimal packet data is stored in 'packet_array'.\n",
    "            \n",
    "            packet = block.packet_data\n",
    "            hex_data = packet.hex()\n",
    "            packet_array.append(hex_data)"
   ]
  },
  {
   "cell_type": "code",
   "execution_count": 4,
   "id": "f1a3e842-b823-4fd0-a9b8-ecf4a11b551d",
   "metadata": {},
   "outputs": [],
   "source": [
    "def separated_hex_values(packet):\n",
    "    '''\n",
    "    This function reads in a list of hexadecimal packet data, without spaces between each pair of characters,\n",
    "    and separates each hexadecimal value and assings them to a list so that they can be iterated over within\n",
    "    a loop for further processing.\n",
    "    '''\n",
    "    separated_hexadecimal_array = []\n",
    "    packet_length = len(packet)\n",
    "    i = 0\n",
    "    j = 1\n",
    "    for character in packet:\n",
    "        if j < packet_length:\n",
    "            separated_hexadecimal_array.append(packet[i]+packet[j])\n",
    "            i += 2\n",
    "            j += 2    \n",
    "    return separated_hexadecimal_array\n",
    "# Reads the raw hexadecimal data string for a packet and encodes it into a list of hexadecimal values.\n",
    "\n",
    "def hexadecimal_to_decimal(hexadecimal_array):\n",
    "    '''\n",
    "    This function reads the hexadecimal value list for a packet and converts each into decimal form.\n",
    "    '''\n",
    "    decimal_array = []\n",
    "    for element in hexadecimal_array:\n",
    "        decimal_array.append(int(element, 16))\n",
    "    return decimal_array\n",
    "# Converts the separated hexadecimal array into a decimal array.\n",
    "\n",
    "def decimal_converted_packet(packet):\n",
    "    '''\n",
    "    This function performs the operations for both the 'separated_hex_values' and 'convert_hexadecimal_to_decimal'\n",
    "    functions on a packet.\n",
    "    '''\n",
    "    return hexadecimal_to_decimal(separated_hex_values(packet))\n",
    "# Performs the function of the 'separated_hex_values' function and then performs the 'convert_hexadecimal_to_decimal' \n",
    "# function on the same data.\n",
    "\n",
    "def isolate_packet_pixel_data(packet_data):\n",
    "    '''\n",
    "    This function removes non-pixel data from the list of integer values. For science images, this means the first\n",
    "    16 values are removed.\n",
    "    '''\n",
    "    converted_packet_data = decimal_converted_packet(packet_data)\n",
    "    return converted_packet_data[58:]\n",
    "# Returns a decimal array for the packet data excluding the first 16 elements, which do not correspond to science packet\n",
    "# pixel data.\n",
    "\n",
    "def isolate_packet_data(packet_data):\n",
    "    converted_packet_data = decimal_converted_packet(packet_data)\n",
    "    return converted_packet_data[42:]\n",
    "\n",
    "# The Wireshark capture files are 570 bytes in size. The pixel data are stored in the last 528 bytes of the capture.\n",
    "# Therefore, I am subtracting the first 58 bytes of the capture file because they do not correspond to pixel data.\n",
    "# This must be done in combination with the subtraction of the first 16 elements of each packet."
   ]
  },
  {
   "cell_type": "code",
   "execution_count": 5,
   "id": "16d9ccbc-f695-43f0-b901-e84d838a09a9",
   "metadata": {
    "tags": []
   },
   "outputs": [],
   "source": [
    "# Testing the functions...\n",
    "\n",
    "#testing_packet1 = packet_array[0]\n",
    "#testing_packet2 = packet_array[27001]\n",
    "#testing_packet3 = packet_array[526]\n",
    "#testing_packet4 = packet_array[12654]\n",
    "# Randomly selected packets used for testing the functions defined above.\n",
    "\n",
    "#print(isolate_packet_pixel_data(testing_packet1), '\\n')\n",
    "#print(isolate_packet_pixel_data(testing_packet2))\n",
    "\n",
    "#print(len(isolate_packet_pixel_data(testing_packet1)))"
   ]
  },
  {
   "cell_type": "code",
   "execution_count": 6,
   "id": "9d4c2700-ba47-4d4d-981e-b0ae460b01d1",
   "metadata": {
    "tags": []
   },
   "outputs": [],
   "source": [
    "#testing_packet1 = packet_array[16000]\n",
    "#print(decimal_converted_packet(testing_packet1))\n",
    "#print(decimal_converted_packet(testing_packet1)[26])"
   ]
  },
  {
   "cell_type": "code",
   "execution_count": 7,
   "id": "d7ed0b79-d2e0-4ae0-a86e-c9ff56cd822e",
   "metadata": {},
   "outputs": [],
   "source": [
    "file_packet_integer_data = []\n",
    "\n",
    "for element in packet_array:\n",
    "    file_packet_integer_data.append(isolate_packet_pixel_data(element))"
   ]
  },
  {
   "cell_type": "code",
   "execution_count": 8,
   "id": "9129b98b-e1e3-46a5-85b0-5e7323ebc15a",
   "metadata": {},
   "outputs": [],
   "source": [
    "def convert_integer_to_binary(integer):\n",
    "    binary_array = []\n",
    "    bit_number = 0\n",
    "    quotient = integer\n",
    "    \n",
    "    while bit_number <= 7:\n",
    "        binary_array.append(quotient%2)\n",
    "        quotient = int(quotient/2)\n",
    "        bit_number += 1\n",
    "\n",
    "    return binary_array\n",
    "\n",
    "def convert_packet_array_to_8bit_binary(packet):\n",
    "    packet_binary_array_8bit = []\n",
    "    for element in isolate_packet_pixel_data(packet):\n",
    "        packet_binary_array_8bit.append(convert_integer_to_binary(element))\n",
    "                \n",
    "    return packet_binary_array_8bit"
   ]
  },
  {
   "cell_type": "code",
   "execution_count": 9,
   "id": "5f5c512d-96e0-4ef3-9a64-2867f7c47afb",
   "metadata": {},
   "outputs": [],
   "source": [
    "def concatenate_pixel_data_streams(packet):\n",
    "    even_array = []\n",
    "    odd_array = []\n",
    "    combined_array = []\n",
    "    \n",
    "    i = 0\n",
    "    \n",
    "    for element in convert_packet_array_to_8bit_binary(packet):\n",
    "    \n",
    "        if i%2 == 0:\n",
    "            even_array.append(element)\n",
    "        if i%2 == 1:\n",
    "            odd_array.append(element)\n",
    "\n",
    "        i += 1\n",
    "    i = 0\n",
    "    \n",
    "    #even_array = even_array[::-1]\n",
    "    #odd_array = odd_array[::-1]\n",
    "\n",
    "    for element in even_array:\n",
    "        combined_array.append(odd_array[i][::-1] + even_array[i][::-1])\n",
    "        #  ** * * * ** * * Flipping the arrays and concatenating them in accordance with the Quabo packet interface information ******* * ** * ** * *\n",
    "\n",
    "        i += 1\n",
    "    \n",
    "    return combined_array\n",
    "\n",
    "def convert_16bit_binary_to_integer(number):\n",
    "    \n",
    "    i = 15\n",
    "    integer = 0\n",
    "    \n",
    "    for element in number:\n",
    "        integer += (int(element)*(2**i))\n",
    "        i -= 1\n",
    "    \n",
    "    return integer\n",
    "\n",
    "def concatenate_streams_and_convert_to_integer(packet):\n",
    "    \n",
    "    concatenated_array = []\n",
    "    for element in concatenate_pixel_data_streams(packet):\n",
    "        concatenated_array.append(convert_16bit_binary_to_integer(element))\n",
    "        \n",
    "    return concatenated_array"
   ]
  },
  {
   "cell_type": "code",
   "execution_count": 10,
   "id": "86295837-1b28-4f57-ad2e-f30332cd65e1",
   "metadata": {},
   "outputs": [],
   "source": [
    "#test = []\n",
    "#for element in concatenate_pixel_data_streams(testing_packet1):\n",
    "#    test.append(convert_16bit_binary_to_integer(element))"
   ]
  },
  {
   "cell_type": "code",
   "execution_count": 11,
   "id": "371d9f53-3b19-4529-bb2d-91ab660fa2d6",
   "metadata": {},
   "outputs": [],
   "source": [
    "def row_splitter(packet):\n",
    "    \n",
    "    image = []\n",
    "    full_array = []\n",
    "    counter = 0\n",
    "    \n",
    "    for element in concatenate_pixel_data_streams(packet):\n",
    "        full_array.append(convert_16bit_binary_to_integer(element))\n",
    "    row_array = []\n",
    "    \n",
    "    for element in full_array:\n",
    "        if counter == 15:\n",
    "            image.append(row_array)\n",
    "            row_array.append(element)\n",
    "            row_array = []\n",
    "            counter = 0\n",
    "        else:\n",
    "            row_array.append(element)\n",
    "            counter += 1\n",
    "            \n",
    "    return image\n",
    "\n",
    "#creates a 2D array with 16 rows of 16 elements (pixel data to be plotted)"
   ]
  },
  {
   "cell_type": "code",
   "execution_count": 36,
   "id": "0cf67658",
   "metadata": {},
   "outputs": [],
   "source": [
    "#print(row_splitter(file_packet_integer_data[7]))"
   ]
  },
  {
   "cell_type": "code",
   "execution_count": 13,
   "id": "78c29da8-fa02-4c13-80d1-2922038e9005",
   "metadata": {
    "tags": []
   },
   "outputs": [],
   "source": [
    "file_packet_intensity_data = np.array([])\n",
    "image_list = []\n",
    "\n",
    "#test_intensity_array = np.array([])\n",
    "\n",
    "counter = 0\n",
    "\n",
    "for packet in packet_array:\n",
    "    file_packet_intensity_data = np.append(file_packet_intensity_data, row_splitter(packet))\n",
    "    image_list.append('image'+str(counter))\n",
    "    counter += 1"
   ]
  },
  {
   "cell_type": "code",
   "execution_count": 47,
   "id": "10d63b00",
   "metadata": {},
   "outputs": [
    {
     "name": "stdout",
     "output_type": "stream",
     "text": [
      "[6461. 6889. 5853. ... 5372. 4663. 5605.]\n",
      "16\n"
     ]
    }
   ],
   "source": [
    "print(file_packet_intensity_data)\n",
    "print(len(row_splitter(packet_array[9])))"
   ]
  },
  {
   "cell_type": "code",
   "execution_count": 14,
   "id": "fa35c978-5fef-40eb-872d-e0637c85f673",
   "metadata": {
    "tags": []
   },
   "outputs": [
    {
     "ename": "NameError",
     "evalue": "name 'test_intensity_array' is not defined",
     "output_type": "error",
     "traceback": [
      "\u001b[0;31m---------------------------------------------------------------------------\u001b[0m",
      "\u001b[0;31mNameError\u001b[0m                                 Traceback (most recent call last)",
      "Cell \u001b[0;32mIn[14], line 1\u001b[0m\n\u001b[0;32m----> 1\u001b[0m test_intensity_array \u001b[38;5;241m=\u001b[39m \u001b[43mtest_intensity_array\u001b[49m\u001b[38;5;241m.\u001b[39mastype(\u001b[38;5;28mint\u001b[39m)\n",
      "\u001b[0;31mNameError\u001b[0m: name 'test_intensity_array' is not defined"
     ]
    }
   ],
   "source": [
    "#test_intensity_array = test_intensity_array.astype(int)"
   ]
  },
  {
   "cell_type": "code",
   "execution_count": null,
   "id": "a9ce66ee-0640-42b4-b1a5-77fb0994be71",
   "metadata": {
    "tags": []
   },
   "outputs": [
    {
     "name": "stdout",
     "output_type": "stream",
     "text": [
      "7675392\n"
     ]
    }
   ],
   "source": [
    "#print(len(test_intensity_array))"
   ]
  },
  {
   "cell_type": "code",
   "execution_count": null,
   "id": "a3b9225e-c4e5-4b05-b57a-94455a4e064d",
   "metadata": {
    "tags": []
   },
   "outputs": [
    {
     "name": "stdout",
     "output_type": "stream",
     "text": [
      "[]\n"
     ]
    }
   ],
   "source": [
    "#temp_array = np.array([])\n",
    "#print(temp_array)"
   ]
  },
  {
   "cell_type": "code",
   "execution_count": null,
   "id": "27a67c82-24c6-48ae-b84f-4f3a49a062bc",
   "metadata": {
    "tags": []
   },
   "outputs": [
    {
     "data": {
      "text/plain": [
       "'\\ntest_array_2 = np.array([])\\n\\ncounter = 0\\nfor element in test_intensity_array:\\n    \\n    \\n    temp_array = np.append(temp_array, element)\\n    \\n    if counter == 16:\\n        test_array_2 = np.append(test_array_2, temp_array)\\n        counter = 0\\n        temp_array = np.array([])\\n        \\n    \\n    counter += 1\\n'"
      ]
     },
     "execution_count": 16,
     "metadata": {},
     "output_type": "execute_result"
    }
   ],
   "source": [
    "'''\n",
    "test_array_2 = np.array([])\n",
    "\n",
    "counter = 0\n",
    "for element in test_intensity_array:\n",
    "    \n",
    "    \n",
    "    temp_array = np.append(temp_array, element)\n",
    "    \n",
    "    if counter == 16:\n",
    "        test_array_2 = np.append(test_array_2, temp_array)\n",
    "        counter = 0\n",
    "        temp_array = np.array([])\n",
    "        \n",
    "    \n",
    "    counter += 1\n",
    "'''"
   ]
  },
  {
   "cell_type": "code",
   "execution_count": null,
   "id": "f2bcf441-99d1-4e6a-bbf7-de1c0060003a",
   "metadata": {
    "tags": []
   },
   "outputs": [],
   "source": [
    "#print(test_array_2)"
   ]
  },
  {
   "cell_type": "code",
   "execution_count": null,
   "id": "ae0a08f7-a10f-41e2-8699-2539ad560a46",
   "metadata": {
    "tags": []
   },
   "outputs": [],
   "source": [
    "#test = []\n",
    "#np.sum(file_packet_intensity_data[9])\n",
    "#for element in file_packet_intensity_data[9]:\n",
    "#    for item in element:\n",
    "#        test.append(item/np.sum(file_packet_intensity_data[9]))"
   ]
  },
  {
   "cell_type": "code",
   "execution_count": 15,
   "id": "8bbbe001-cb25-420a-832c-a7115cb34588",
   "metadata": {},
   "outputs": [],
   "source": [
    "def get_image_source_ip(packet):\n",
    "    return str(decimal_converted_packet(packet)[26])+'.'+str(decimal_converted_packet(packet)[27])+'.'+str(decimal_converted_packet(packet)[28])+'.'+str(decimal_converted_packet(packet)[29])"
   ]
  },
  {
   "cell_type": "code",
   "execution_count": 16,
   "id": "243ff00b-2157-4f40-897a-59a1b59b2393",
   "metadata": {},
   "outputs": [],
   "source": [
    "class Image:\n",
    "    def __init__(self, name, number, source_ip, data):\n",
    "        self.name = name\n",
    "        self.number = number\n",
    "        self.source_ip = source_ip\n",
    "        self.data = data"
   ]
  },
  {
   "cell_type": "code",
   "execution_count": 17,
   "id": "63189ac6",
   "metadata": {},
   "outputs": [
    {
     "name": "stdout",
     "output_type": "stream",
     "text": [
      "7675392\n"
     ]
    }
   ],
   "source": [
    "print(len(file_packet_intensity_data))"
   ]
  },
  {
   "cell_type": "code",
   "execution_count": 18,
   "id": "87868860-44db-4539-aeb0-cefafbb2af38",
   "metadata": {
    "tags": []
   },
   "outputs": [],
   "source": [
    "object_list = []\n",
    "\n",
    "counter = 0\n",
    "\n",
    "for image in packet_array:\n",
    "    image_object = Image('image'+str(counter), \n",
    "                         counter, get_image_source_ip(image), \n",
    "                         #file_packet_intensity_data[counter]\n",
    "                         test_intensity_array[counter]\n",
    "                         )\n",
    "    object_list.append(image_object)\n",
    "    counter += 1\n",
    "    #print(counter)"
   ]
  },
  {
   "cell_type": "code",
   "execution_count": 19,
   "id": "a4b5d967",
   "metadata": {},
   "outputs": [
    {
     "name": "stdout",
     "output_type": "stream",
     "text": [
      "30000\n"
     ]
    }
   ],
   "source": [
    "print(counter)"
   ]
  },
  {
   "cell_type": "code",
   "execution_count": 20,
   "id": "3bca5dac-f73b-4dbe-8708-eb05c5237be7",
   "metadata": {
    "tags": []
   },
   "outputs": [
    {
     "name": "stdout",
     "output_type": "stream",
     "text": [
      "192.168.0.15\n",
      "['192.168.3.248', '192.168.0.4', '192.168.0.12', '192.168.3.249', '192.168.0.13', '192.168.0.6', '192.168.3.250', '192.168.0.14', '192.168.3.251', '192.168.0.15', '192.168.0.5', '192.168.0.7', '192.168.1.102', '30.97.192.168', '208.108.192.168', '208.40.192.168', '208.164.192.168', '208.140.192.168', '224.180.192.168', '208.192.192.168', '208.88.192.168', '208.112.192.168', '208.48.192.168']\n"
     ]
    }
   ],
   "source": [
    "ip_list = []\n",
    "\n",
    "for element in object_list:\n",
    "    if element.source_ip not in ip_list:\n",
    "        ip_list.append(element.source_ip)\n",
    "        \n",
    "\n",
    "\n",
    "\n",
    "print(object_list[9].source_ip)\n",
    "print(ip_list)"
   ]
  },
  {
   "cell_type": "code",
   "execution_count": 34,
   "id": "d07e92d7-7357-4765-8269-f5af44d3eeff",
   "metadata": {},
   "outputs": [
    {
     "name": "stdout",
     "output_type": "stream",
     "text": [
      "192.168.0.6\n"
     ]
    }
   ],
   "source": [
    "print(object_list[5].source_ip)\n",
    "\n",
    "#hasattr(object_list[5])"
   ]
  },
  {
   "cell_type": "code",
   "execution_count": 21,
   "id": "7b8f8962-0895-45b6-8ecd-dee350670c5c",
   "metadata": {
    "tags": []
   },
   "outputs": [],
   "source": [
    "initial_list = []\n",
    "\n",
    "for element in ip_list:\n",
    "    new_list = [element]\n",
    "    initial_list.append(new_list)\n",
    "\n",
    "address_dictionary = {key: [] for key in ip_list}\n",
    "\n",
    "for element in object_list:\n",
    "    for key in address_dictionary:\n",
    "        if element.source_ip == key:\n",
    "            address_dictionary[key].append(element.name)"
   ]
  },
  {
   "cell_type": "code",
   "execution_count": 22,
   "id": "2a52d13a-a254-45d3-9ca4-a650eb3b6db1",
   "metadata": {
    "tags": []
   },
   "outputs": [
    {
     "ename": "TypeError",
     "evalue": "object of type 'numpy.float64' has no len()",
     "output_type": "error",
     "traceback": [
      "\u001b[0;31m---------------------------------------------------------------------------\u001b[0m",
      "\u001b[0;31mTypeError\u001b[0m                                 Traceback (most recent call last)",
      "Cell \u001b[0;32mIn[22], line 1\u001b[0m\n\u001b[0;32m----> 1\u001b[0m \u001b[38;5;28mprint\u001b[39m(\u001b[38;5;28;43mlen\u001b[39;49m\u001b[43m(\u001b[49m\u001b[43mobject_list\u001b[49m\u001b[43m[\u001b[49m\u001b[38;5;241;43m483\u001b[39;49m\u001b[43m]\u001b[49m\u001b[38;5;241;43m.\u001b[39;49m\u001b[43mdata\u001b[49m\u001b[43m)\u001b[49m)\n",
      "\u001b[0;31mTypeError\u001b[0m: object of type 'numpy.float64' has no len()"
     ]
    }
   ],
   "source": [
    "print(len(object_list[483].data))"
   ]
  },
  {
   "cell_type": "code",
   "execution_count": null,
   "id": "931cd2a4-8833-4bca-ab9b-1e1c6f13545b",
   "metadata": {
    "tags": []
   },
   "outputs": [],
   "source": [
    "#name_list = []\n",
    "#for element in object_list:\n",
    "#    name_list.append(test_function_PER_ADDRESS)\n",
    "    \n",
    "#print(name_list)"
   ]
  },
  {
   "cell_type": "code",
   "execution_count": null,
   "id": "d238d936-6184-4b9e-a8d1-428ecfb0fb72",
   "metadata": {
    "tags": []
   },
   "outputs": [],
   "source": [
    "#break\n",
    "directory = 'S:/'\n",
    "\n",
    "#index_dictionary = {key: int for key in image_list}\n",
    "#print(index_dictionary)\n",
    "\n",
    "#def image_plotter(image):\n",
    "    \n",
    "    #if image_name in image_list:\n",
    "        #index = \n",
    "'''\n",
    "    i = 1\n",
    "    for element in file_packet_intensity_data[]:\n",
    "        if len(element) == 16:\n",
    "            plt.figure()\n",
    "            plt.imshow(element)\n",
    "            plt.savefig(os.path.join(directory, 'figure'+str(i)+'.jpg'), format='jpg')\n",
    "            i += 1\n",
    "'''"
   ]
  },
  {
   "cell_type": "code",
   "execution_count": null,
   "id": "6b055678-137d-477f-b3ec-1602ffa5150f",
   "metadata": {
    "tags": []
   },
   "outputs": [],
   "source": [
    "def image_plotter(image):\n",
    "    if len(image.data) > 0:\n",
    "        plt.title(str(image.name))\n",
    "        plt.imshow(image.data)\n",
    "        plt.show()\n",
    "    #plt.close()"
   ]
  },
  {
   "cell_type": "code",
   "execution_count": null,
   "id": "d2d3300a-5f1d-4631-9910-fa518f8565a0",
   "metadata": {
    "tags": []
   },
   "outputs": [],
   "source": [
    "image_plotter(object_list[90])"
   ]
  },
  {
   "cell_type": "code",
   "execution_count": null,
   "id": "031d4758-18e5-4865-b8f6-85cca0545392",
   "metadata": {
    "tags": []
   },
   "outputs": [],
   "source": [
    "print(len(object_list[482].data))"
   ]
  },
  {
   "cell_type": "code",
   "execution_count": null,
   "id": "715575d6-bfff-444e-aac6-40630bd7b959",
   "metadata": {
    "tags": []
   },
   "outputs": [],
   "source": [
    "print(object_list[501].source_ip)"
   ]
  },
  {
   "cell_type": "code",
   "execution_count": null,
   "id": "3797b8c6-a3ff-4377-8c90-3c85107e8fed",
   "metadata": {},
   "outputs": [],
   "source": []
  },
  {
   "cell_type": "code",
   "execution_count": null,
   "id": "d14a13f2-4dcf-4c7d-a248-926285b0fd59",
   "metadata": {
    "tags": []
   },
   "outputs": [],
   "source": [
    "#counter = 0\n",
    "#for element in object_list:\n",
    "    \n",
    "#    if element.source_ip == '192.168.3.251':\n",
    "#        #print(element.source_ip)\n",
    "#        image_plotter(element)\n",
    "#\n",
    "#        time.sleep(0.0167)\n",
    "#        clear_output(wait=True)\n",
    "#\n",
    "#        counter += 1"
   ]
  },
  {
   "cell_type": "code",
   "execution_count": null,
   "id": "a11a8e23-7430-468c-ac16-a57aa58a8d71",
   "metadata": {
    "tags": []
   },
   "outputs": [],
   "source": [
    "#break\n",
    "#i=0\n",
    "#for element in object_list:\n",
    "#    if element.source_ip == '192.168.3.248':\n",
    "#        image_plotter(element)\n",
    "#        plt.savefig(os.path.join(directory, 'figure'+str(i)+'.jpg'), format='jpg')\n",
    "#        i+=1"
   ]
  },
  {
   "cell_type": "code",
   "execution_count": null,
   "id": "4561a4b7-f3b0-40c5-8886-9aae84994df0",
   "metadata": {
    "tags": []
   },
   "outputs": [],
   "source": [
    "#frames = []\n",
    "\n",
    "# Generate each frame and store it in the frames list\n",
    "#for element in object_list:\n",
    "#    image_plotter(element.data)\n",
    "#    plt.savefig('temp.png')  # Save the plot as an image\n",
    "#    frames.append(imageio.imread('temp.png'))\n",
    "#    \n",
    "#imageio.mimsave('animation.mp4', frames, fps=30)"
   ]
  },
  {
   "cell_type": "code",
   "execution_count": null,
   "id": "3c66b917-acdd-481b-b8c7-2eec46f69f99",
   "metadata": {},
   "outputs": [],
   "source": []
  },
  {
   "cell_type": "code",
   "execution_count": null,
   "id": "cf6bd42e",
   "metadata": {},
   "outputs": [],
   "source": []
  }
 ],
 "metadata": {
  "kernelspec": {
   "display_name": "Python 3 (ipykernel)",
   "language": "python",
   "name": "python3"
  },
  "language_info": {
   "codemirror_mode": {
    "name": "ipython",
    "version": 3
   },
   "file_extension": ".py",
   "mimetype": "text/x-python",
   "name": "python",
   "nbconvert_exporter": "python",
   "pygments_lexer": "ipython3",
   "version": "3.9.19"
  }
 },
 "nbformat": 4,
 "nbformat_minor": 5
}
