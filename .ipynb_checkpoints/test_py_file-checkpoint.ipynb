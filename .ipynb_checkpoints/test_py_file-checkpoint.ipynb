{
 "cells": [
  {
   "cell_type": "code",
   "execution_count": 1,
   "id": "d495a608-b169-4b58-9d82-2e9d360dd251",
   "metadata": {},
   "outputs": [],
   "source": [
    "import numpy as np\n",
    "import matplotlib.pyplot as plt\n",
    "import pcapng\n",
    "from pcapng import FileScanner\n",
    "import os\n",
    "from IPython.display import display, clear_output\n",
    "import time"
   ]
  },
  {
   "cell_type": "code",
   "execution_count": 2,
   "id": "dcb2b85a-7217-431c-b1c7-14ca0fb1e181",
   "metadata": {
    "tags": []
   },
   "outputs": [],
   "source": [
    "#path = input('Please specify the location of your Wireshark capture file:')"
   ]
  },
  {
   "cell_type": "code",
   "execution_count": 3,
   "id": "c649a554-74a7-4d2a-975a-c762576ac60e",
   "metadata": {
    "tags": []
   },
   "outputs": [],
   "source": [
    "#print(path)"
   ]
  },
  {
   "cell_type": "code",
   "execution_count": 4,
   "id": "4593bd39-79d9-4b67-b26c-dbf1a54f9812",
   "metadata": {},
   "outputs": [
    {
     "name": "stdout",
     "output_type": "stream",
     "text": [
      "Reading selected file...\n",
      "\n",
      "\n"
     ]
    }
   ],
   "source": [
    "# Declares the list that will hold the hexadecimal data for each packet.\n",
    "\n",
    "###########################################################\n",
    "path = \"C:/Users/brett/OneDrive/Code/Python/OIR Lab/Pause_onskyph0pe_ima0pe__20230426_040905.pcapng\"\n",
    "# Specifies the path to the file to be used in processing.\n",
    "# Don't forget to change when using a new file.\n",
    "###########################################################\n",
    "\n",
    "packet_array = []\n",
    "# Declares the list that will hold the hexadecimal data for each packet.\n",
    "\n",
    "print(\"Reading selected file...\")\n",
    "print(\"\\n\")\n",
    "\n",
    "with open(path, 'rb') as file:\n",
    "    scanner = FileScanner(file)\n",
    "    for block in scanner:\n",
    "        if isinstance(block, pcapng.blocks.EnhancedPacket):\n",
    "            # Checks, while iterating over each block, if it is of the EnchancedPacket data type. If so,\n",
    "            # its hexadecimal packet data is stored in 'packet_array'.\n",
    "            \n",
    "            packet = block.packet_data\n",
    "            hex_data = packet.hex()\n",
    "            packet_array.append(hex_data)"
   ]
  },
  {
   "cell_type": "code",
   "execution_count": 5,
   "id": "d39aa7c8-fcdd-44d8-844e-23b343716c0f",
   "metadata": {
    "tags": []
   },
   "outputs": [],
   "source": [
    "#file_packet_integer_data = []\n",
    "\n",
    "#for element in packet_array:\n",
    "#    file_packet_integer_data.append(isolate_packet_pixel_data(element))"
   ]
  },
  {
   "cell_type": "code",
   "execution_count": 6,
   "id": "cdd78418-a59e-4406-b4ed-03793084619e",
   "metadata": {},
   "outputs": [],
   "source": [
    "class Image:\n",
    "    def __init__(self, name, number, source_ip, data):\n",
    "        self.name = name\n",
    "        self.number = number\n",
    "        self.source_ip = source_ip\n",
    "        self.data = data"
   ]
  },
  {
   "cell_type": "code",
   "execution_count": 7,
   "id": "5449f5ca-e7ad-4e9e-96ba-6a43488cca82",
   "metadata": {
    "tags": []
   },
   "outputs": [
    {
     "name": "stdout",
     "output_type": "stream",
     "text": [
      "Converting hexidecimal data to photon intensity...\n",
      "\n",
      "\n",
      "Loading [|||||...............]\r"
     ]
    },
    {
     "ename": "KeyboardInterrupt",
     "evalue": "",
     "output_type": "error",
     "traceback": [
      "\u001b[1;31m---------------------------------------------------------------------------\u001b[0m",
      "\u001b[1;31mKeyboardInterrupt\u001b[0m                         Traceback (most recent call last)",
      "Cell \u001b[1;32mIn[7], line 30\u001b[0m\n\u001b[0;32m     28\u001b[0m file_packet_intensity_data\u001b[38;5;241m.\u001b[39mappend(row_splitter(packet))\n\u001b[0;32m     29\u001b[0m image_list\u001b[38;5;241m.\u001b[39mappend(\u001b[38;5;124m'\u001b[39m\u001b[38;5;124mimage\u001b[39m\u001b[38;5;124m'\u001b[39m\u001b[38;5;241m+\u001b[39m\u001b[38;5;28mstr\u001b[39m(counter))\n\u001b[1;32m---> 30\u001b[0m image_object \u001b[38;5;241m=\u001b[39m Image(\u001b[38;5;124m'\u001b[39m\u001b[38;5;124mimage\u001b[39m\u001b[38;5;124m'\u001b[39m\u001b[38;5;241m+\u001b[39m\u001b[38;5;28mstr\u001b[39m(counter), counter, get_image_source_ip(packet), file_packet_intensity_data[counter])\n\u001b[0;32m     31\u001b[0m object_list\u001b[38;5;241m.\u001b[39mappend(image_object)\n\u001b[0;32m     33\u001b[0m list_loading(packet_array, counter)\n",
      "File \u001b[1;32m~\\OneDrive\\Documents\\GitHub\\panoseti-quabo-packet-processing\\functions.py:236\u001b[0m, in \u001b[0;36mget_image_source_ip\u001b[1;34m(packet)\u001b[0m\n\u001b[0;32m    235\u001b[0m \u001b[38;5;28;01mdef\u001b[39;00m \u001b[38;5;21mget_image_source_ip\u001b[39m(packet):\n\u001b[1;32m--> 236\u001b[0m     \u001b[38;5;28;01mreturn\u001b[39;00m \u001b[38;5;28mstr\u001b[39m(decimal_converted_packet(packet)[\u001b[38;5;241m26\u001b[39m])\u001b[38;5;241m+\u001b[39m\u001b[38;5;124m'\u001b[39m\u001b[38;5;124m.\u001b[39m\u001b[38;5;124m'\u001b[39m\u001b[38;5;241m+\u001b[39m\u001b[38;5;28mstr\u001b[39m(decimal_converted_packet(packet)[\u001b[38;5;241m27\u001b[39m])\u001b[38;5;241m+\u001b[39m\u001b[38;5;124m'\u001b[39m\u001b[38;5;124m.\u001b[39m\u001b[38;5;124m'\u001b[39m\u001b[38;5;241m+\u001b[39m\u001b[38;5;28mstr\u001b[39m(decimal_converted_packet(packet)[\u001b[38;5;241m28\u001b[39m])\u001b[38;5;241m+\u001b[39m\u001b[38;5;124m'\u001b[39m\u001b[38;5;124m.\u001b[39m\u001b[38;5;124m'\u001b[39m\u001b[38;5;241m+\u001b[39m\u001b[38;5;28mstr\u001b[39m(decimal_converted_packet(packet)[\u001b[38;5;241m29\u001b[39m])\n",
      "File \u001b[1;32m~\\OneDrive\\Documents\\GitHub\\panoseti-quabo-packet-processing\\functions.py:60\u001b[0m, in \u001b[0;36mdecimal_converted_packet\u001b[1;34m(packet)\u001b[0m\n\u001b[0;32m     55\u001b[0m \u001b[38;5;28;01mdef\u001b[39;00m \u001b[38;5;21mdecimal_converted_packet\u001b[39m(packet):\n\u001b[0;32m     56\u001b[0m \u001b[38;5;250m    \u001b[39m\u001b[38;5;124;03m'''\u001b[39;00m\n\u001b[0;32m     57\u001b[0m \u001b[38;5;124;03m    This function performs the operations for both the 'separated_hex_values' and 'convert_hexadecimal_to_decimal'\u001b[39;00m\n\u001b[0;32m     58\u001b[0m \u001b[38;5;124;03m    functions on a packet.\u001b[39;00m\n\u001b[0;32m     59\u001b[0m \u001b[38;5;124;03m    '''\u001b[39;00m\n\u001b[1;32m---> 60\u001b[0m     \u001b[38;5;28;01mreturn\u001b[39;00m hexadecimal_to_decimal(separated_hex_values(packet))\n",
      "File \u001b[1;32m~\\OneDrive\\Documents\\GitHub\\panoseti-quabo-packet-processing\\functions.py:47\u001b[0m, in \u001b[0;36mhexadecimal_to_decimal\u001b[1;34m(hexadecimal_array)\u001b[0m\n\u001b[0;32m     45\u001b[0m decimal_array \u001b[38;5;241m=\u001b[39m []\n\u001b[0;32m     46\u001b[0m \u001b[38;5;28;01mfor\u001b[39;00m element \u001b[38;5;129;01min\u001b[39;00m hexadecimal_array:\n\u001b[1;32m---> 47\u001b[0m     decimal_array\u001b[38;5;241m.\u001b[39mappend(\u001b[38;5;28mint\u001b[39m(element, \u001b[38;5;241m16\u001b[39m))\n\u001b[0;32m     48\u001b[0m \u001b[38;5;28;01mreturn\u001b[39;00m decimal_array\n",
      "\u001b[1;31mKeyboardInterrupt\u001b[0m: "
     ]
    }
   ],
   "source": [
    "from functions import separated_hex_values\n",
    "from functions import hexadecimal_to_decimal\n",
    "from functions import decimal_converted_packet\n",
    "from functions import isolate_packet_pixel_data\n",
    "from functions import isolate_packet_data\n",
    "from functions import convert_integer_to_binary\n",
    "from functions import convert_packet_array_to_8bit_binary\n",
    "from functions import convert_integer_to_binary\n",
    "from functions import convert_packet_array_to_8bit_binary\n",
    "from functions import concatenate_pixel_data_streams\n",
    "from functions import convert_16bit_binary_to_integer\n",
    "from functions import concatenate_streams_and_convert_to_integer\n",
    "from functions import row_splitter\n",
    "from functions import get_image_source_ip\n",
    "from functions import list_loading\n",
    "\n",
    "file_packet_intensity_data = []\n",
    "image_list = []\n",
    "object_list = []\n",
    "\n",
    "counter = 0\n",
    "\n",
    "print(\"Converting hexidecimal data to photon intensity...\")\n",
    "print(\"\\n\")\n",
    "\n",
    "for packet in packet_array:\n",
    "    \n",
    "    file_packet_intensity_data.append(row_splitter(packet))\n",
    "    image_list.append('image'+str(counter))\n",
    "    image_object = Image('image'+str(counter), counter, get_image_source_ip(packet), file_packet_intensity_data[counter])\n",
    "    object_list.append(image_object)\n",
    "    \n",
    "    list_loading(packet_array, counter)\n",
    "    \n",
    "    counter += 1"
   ]
  },
  {
   "cell_type": "code",
   "execution_count": null,
   "id": "480280c5-0311-4f85-8523-683a66215985",
   "metadata": {},
   "outputs": [],
   "source": [
    "#object_list = []\n",
    "#\n",
    "#counter = 0\n",
    "#\n",
    "#for image in packet_array:\n",
    "#    image_object = Image('image'+str(counter), counter, get_image_source_ip(image), file_packet_intensity_data[counter])\n",
    "#    object_list.append(image_object)\n",
    "#    counter += 1"
   ]
  },
  {
   "cell_type": "code",
   "execution_count": null,
   "id": "29b29a53-7fa0-4586-9ce1-1a83861291c1",
   "metadata": {},
   "outputs": [],
   "source": [
    "ip_list = []\n",
    "\n",
    "for element in object_list:\n",
    "    if element.source_ip not in ip_list:\n",
    "        ip_list.append(element.source_ip)\n",
    "        \n",
    "print(\"\\n\")\n",
    "print(\"Retrieving source IP addresses...\")"
   ]
  },
  {
   "cell_type": "code",
   "execution_count": null,
   "id": "b26bfa58-3ffc-4fbc-85da-68e62c991774",
   "metadata": {},
   "outputs": [],
   "source": [
    "initial_list = []\n",
    "\n",
    "for element in ip_list:\n",
    "    new_list = [element]\n",
    "    initial_list.append(new_list)\n",
    "\n",
    "address_dictionary = {key: [] for key in ip_list}\n",
    "\n",
    "for element in object_list:\n",
    "    for key in address_dictionary:\n",
    "        if element.source_ip == key:\n",
    "            address_dictionary[key].append(element.name)"
   ]
  },
  {
   "cell_type": "code",
   "execution_count": null,
   "id": "7fb99ef1-136a-4851-9faf-f1ce766a66f9",
   "metadata": {
    "tags": []
   },
   "outputs": [],
   "source": [
    "from functions import image_plotter\n",
    "\n",
    "counter = 0\n",
    "for element in object_list:\n",
    "    \n",
    "    if element.source_ip == '192.168.3.251':\n",
    "        #print(element.source_ip)\n",
    "        image_plotter(element)\n",
    "\n",
    "        time.sleep(0.0167)\n",
    "        clear_output(wait=True)\n",
    "\n",
    "        counter += 1"
   ]
  },
  {
   "cell_type": "code",
   "execution_count": null,
   "id": "396fa234-9873-4ae5-a228-5bfa4d90e565",
   "metadata": {},
   "outputs": [],
   "source": []
  }
 ],
 "metadata": {
  "kernelspec": {
   "display_name": "Python 3 (ipykernel)",
   "language": "python",
   "name": "python3"
  },
  "language_info": {
   "codemirror_mode": {
    "name": "ipython",
    "version": 3
   },
   "file_extension": ".py",
   "mimetype": "text/x-python",
   "name": "python",
   "nbconvert_exporter": "python",
   "pygments_lexer": "ipython3",
   "version": "3.11.5"
  }
 },
 "nbformat": 4,
 "nbformat_minor": 5
}
