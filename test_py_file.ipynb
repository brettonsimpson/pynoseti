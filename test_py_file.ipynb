{
 "cells": [
  {
   "cell_type": "code",
   "execution_count": 1,
   "id": "d495a608-b169-4b58-9d82-2e9d360dd251",
   "metadata": {},
   "outputs": [],
   "source": [
    "import numpy as np\n",
    "import matplotlib.pyplot as plt\n",
    "import pcapng\n",
    "from pcapng import FileScanner\n",
    "import os\n",
    "from IPython.display import display, clear_output\n",
    "import time"
   ]
  },
  {
   "cell_type": "code",
   "execution_count": 2,
   "id": "dcb2b85a-7217-431c-b1c7-14ca0fb1e181",
   "metadata": {
    "tags": []
   },
   "outputs": [
    {
     "name": "stdout",
     "output_type": "stream",
     "text": [
      "\n",
      "\n"
     ]
    }
   ],
   "source": [
    "print(\"\\n\")\n",
    "#path = input('Please specify the location of your Wireshark capture file: ')"
   ]
  },
  {
   "cell_type": "code",
   "execution_count": 3,
   "id": "c649a554-74a7-4d2a-975a-c762576ac60e",
   "metadata": {
    "tags": []
   },
   "outputs": [],
   "source": [
    "#print(path)"
   ]
  },
  {
   "cell_type": "code",
   "execution_count": 4,
   "id": "4593bd39-79d9-4b67-b26c-dbf1a54f9812",
   "metadata": {},
   "outputs": [
    {
     "name": "stdout",
     "output_type": "stream",
     "text": [
      "\n",
      "\n",
      "Reading selected file...\n",
      "\n",
      "\n"
     ]
    }
   ],
   "source": [
    "# Declares the list that will hold the hexadecimal data for each packet.\n",
    "\n",
    "###########################################################\n",
    "#path = \"C:/Users/brett/OneDrive/Code/Python/OIR Lab/Pause_onskyph0pe_ima0pe__20230426_040905.pcapng\"\n",
    "\n",
    "#desktop \n",
    "path = \"H:/OneDrive/School/UCSD/OIR Lab/Pause_onskyph0pe_ima0pe__20230426_040905.pcapng\"\n",
    "\n",
    "# Specifies the path to the file to be used in processing.\n",
    "# Don't forget to change when using a new file.\n",
    "###########################################################\n",
    "\n",
    "packet_array = []\n",
    "# Declares the list that will hold the hexadecimal data for each packet.\n",
    "\n",
    "print(\"\\n\")\n",
    "print(\"Reading selected file...\")\n",
    "print(\"\\n\")\n",
    "\n",
    "with open(path, 'rb') as file:\n",
    "    scanner = FileScanner(file)\n",
    "    for block in scanner:\n",
    "        if isinstance(block, pcapng.blocks.EnhancedPacket):\n",
    "            # Checks, while iterating over each block, if it is of the EnchancedPacket data type. If so,\n",
    "            # its hexadecimal packet data is stored in 'packet_array'.\n",
    "            \n",
    "            packet = block.packet_data\n",
    "            hex_data = packet.hex()\n",
    "            packet_array.append(hex_data)"
   ]
  },
  {
   "cell_type": "code",
   "execution_count": 5,
   "id": "d39aa7c8-fcdd-44d8-844e-23b343716c0f",
   "metadata": {
    "tags": []
   },
   "outputs": [],
   "source": [
    "#file_packet_integer_data = []\n",
    "\n",
    "#for element in packet_array:\n",
    "#    file_packet_integer_data.append(isolate_packet_pixel_data(element))"
   ]
  },
  {
   "cell_type": "code",
   "execution_count": 6,
   "id": "cdd78418-a59e-4406-b4ed-03793084619e",
   "metadata": {},
   "outputs": [],
   "source": [
    "class Image:\n",
    "    def __init__(self, name, number, source_ip, data):\n",
    "        self.name = name\n",
    "        self.number = number\n",
    "        self.source_ip = source_ip\n",
    "        self.data = data"
   ]
  },
  {
   "cell_type": "code",
   "execution_count": 7,
   "id": "5449f5ca-e7ad-4e9e-96ba-6a43488cca82",
   "metadata": {
    "tags": []
   },
   "outputs": [
    {
     "name": "stdout",
     "output_type": "stream",
     "text": [
      "Converting hexidecimal data to photon intensity...\n",
      "\n",
      "\n",
      "Loading Complete!|||||||||||.]\r"
     ]
    }
   ],
   "source": [
    "from functions import separated_hex_values\n",
    "from functions import hexadecimal_to_decimal\n",
    "from functions import decimal_converted_packet\n",
    "from functions import isolate_packet_pixel_data\n",
    "from functions import isolate_packet_data\n",
    "from functions import convert_integer_to_binary\n",
    "from functions import convert_packet_array_to_8bit_binary\n",
    "from functions import convert_integer_to_binary\n",
    "from functions import convert_packet_array_to_8bit_binary\n",
    "from functions import concatenate_pixel_data_streams\n",
    "from functions import convert_16bit_binary_to_integer\n",
    "from functions import concatenate_streams_and_convert_to_integer\n",
    "from functions import row_splitter\n",
    "from functions import get_image_source_ip\n",
    "from functions import list_loading\n",
    "\n",
    "file_packet_intensity_data = []\n",
    "image_list = []\n",
    "object_list = []\n",
    "\n",
    "counter = 0\n",
    "\n",
    "print(\"Converting hexidecimal data to photon intensity...\")\n",
    "print(\"\\n\")\n",
    "\n",
    "for packet in packet_array:\n",
    "    \n",
    "    file_packet_intensity_data.append(row_splitter(packet))\n",
    "    image_list.append('image'+str(counter))\n",
    "    image_object = Image('image'+str(counter), counter, get_image_source_ip(packet), file_packet_intensity_data[counter])\n",
    "    object_list.append(image_object)\n",
    "    \n",
    "    list_loading(packet_array, counter)\n",
    "    \n",
    "    counter += 1"
   ]
  },
  {
   "cell_type": "code",
   "execution_count": 8,
   "id": "480280c5-0311-4f85-8523-683a66215985",
   "metadata": {},
   "outputs": [],
   "source": [
    "#object_list = []\n",
    "#\n",
    "#counter = 0\n",
    "#\n",
    "#for image in packet_array:\n",
    "#    image_object = Image('image'+str(counter), counter, get_image_source_ip(image), file_packet_intensity_data[counter])\n",
    "#    object_list.append(image_object)\n",
    "#    counter += 1"
   ]
  },
  {
   "cell_type": "code",
   "execution_count": 9,
   "id": "29b29a53-7fa0-4586-9ce1-1a83861291c1",
   "metadata": {},
   "outputs": [
    {
     "name": "stdout",
     "output_type": "stream",
     "text": [
      "\n",
      "\n",
      "Retrieving source IP addresses...\n"
     ]
    }
   ],
   "source": [
    "ip_list = []\n",
    "\n",
    "for element in object_list:\n",
    "    if element.source_ip not in ip_list:\n",
    "        ip_list.append(element.source_ip)\n",
    "        \n",
    "print(\"\\n\")\n",
    "print(\"Retrieving source IP addresses...\")"
   ]
  },
  {
   "cell_type": "code",
   "execution_count": 10,
   "id": "b26bfa58-3ffc-4fbc-85da-68e62c991774",
   "metadata": {},
   "outputs": [],
   "source": [
    "initial_list = []\n",
    "\n",
    "for element in ip_list:\n",
    "    new_list = [element]\n",
    "    initial_list.append(new_list)\n",
    "\n",
    "address_dictionary = {key: [] for key in ip_list}\n",
    "\n",
    "for element in object_list:\n",
    "    for key in address_dictionary:\n",
    "        if element.source_ip == key:\n",
    "            address_dictionary[key].append(element.name)"
   ]
  },
  {
   "cell_type": "code",
   "execution_count": 12,
   "id": "20b2e5d1-3242-4df1-a7ef-edc193f52065",
   "metadata": {
    "tags": []
   },
   "outputs": [
    {
     "name": "stdout",
     "output_type": "stream",
     "text": [
      "['192.168.3.248', '192.168.0.4', '192.168.0.12', '192.168.3.249', '192.168.0.13', '192.168.0.6', '192.168.3.250', '192.168.0.14', '192.168.3.251', '192.168.0.15', '192.168.0.5', '192.168.0.7', '192.168.1.102', '30.97.192.168', '208.108.192.168', '208.40.192.168', '208.164.192.168', '208.140.192.168', '224.180.192.168', '208.192.192.168', '208.88.192.168', '208.112.192.168', '208.48.192.168']\n"
     ]
    }
   ],
   "source": [
    "print(ip_list)"
   ]
  },
  {
   "cell_type": "code",
   "execution_count": 31,
   "id": "7fb99ef1-136a-4851-9faf-f1ce766a66f9",
   "metadata": {
    "tags": []
   },
   "outputs": [],
   "source": [
    "from functions import image_plotter\n",
    "\n",
    "counter = 0\n",
    "for element in object_list:\n",
    "    \n",
    "    if element.source_ip == '208.1.192.168':\n",
    "        #print(element.source_ip)\n",
    "        image_plotter(element)\n",
    "\n",
    "        #time.sleep(0.0167)\n",
    "        clear_output(wait=True)\n",
    "\n",
    "        counter += 1"
   ]
  },
  {
   "cell_type": "code",
   "execution_count": null,
   "id": "04214d4f-029e-4d9d-9bf6-f3871b2e601b",
   "metadata": {},
   "outputs": [],
   "source": []
  }
 ],
 "metadata": {
  "kernelspec": {
   "display_name": "Python 3 (ipykernel)",
   "language": "python",
   "name": "python3"
  },
  "language_info": {
   "codemirror_mode": {
    "name": "ipython",
    "version": 3
   },
   "file_extension": ".py",
   "mimetype": "text/x-python",
   "name": "python",
   "nbconvert_exporter": "python",
   "pygments_lexer": "ipython3",
   "version": "3.11.5"
  }
 },
 "nbformat": 4,
 "nbformat_minor": 5
}
