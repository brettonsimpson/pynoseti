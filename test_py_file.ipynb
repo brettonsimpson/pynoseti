{
 "cells": [
  {
   "cell_type": "code",
   "execution_count": 5,
   "id": "86479775",
   "metadata": {},
   "outputs": [
    {
     "name": "stdout",
     "output_type": "stream",
     "text": [
      "\n",
      "\n",
      "Reading selected file...\n",
      "\n",
      "\n",
      "Converting hexidecimal data to photon intensity...\n",
      "\n",
      "\n",
      "Loading Complete! [||||||||||||||||||||]\r"
     ]
    }
   ],
   "source": [
    "import numpy as np\n",
    "import matplotlib.pyplot as plt\n",
    "import matplotlib.animation as animation\n",
    "import pcapng\n",
    "from pcapng import FileScanner\n",
    "from pcapng.blocks import EnhancedPacket\n",
    "import os\n",
    "from IPython.display import display, clear_output\n",
    "import time\n",
    "import json\n",
    "\n",
    "start_time = time.time()\n",
    "\n",
    "print(\"\\n\")\n",
    "#path = input('Please specify the location of your Wireshark capture file: ')\n",
    "\n",
    "# Declares the list that will hold the hexadecimal data for each packet.\n",
    "\n",
    "###########################################################\n",
    "path = \"C:/Pause_onskyph0pe_ima0pe__20230426_040905.pcapng\"\n",
    "#path = \"/home/brett/Data_for_pynoseti/Pause_onskyph0pe_ima0pe__20230426_040905.pcapng\"\n",
    "# Specifies the path to the file to be used in processing.\n",
    "# Don't forget to change when using a new file.\n",
    "###########################################################\n",
    "\n",
    "packet_array = []\n",
    "# Declares the list that will hold the hexadecimal data for each packet.\n",
    "\n",
    "import datetime\n",
    "print(\"Reading selected file...\")\n",
    "print(\"\\n\")\n",
    "\n",
    "with open(path, 'rb') as file:\n",
    "    scanner = FileScanner(file)\n",
    "    for block in scanner:\n",
    "        if isinstance(block, pcapng.blocks.EnhancedPacket):\n",
    "            # Checks, while iterating over each block, if it is of the EnchancedPacket data type. If so,\n",
    "            # its hexadecimal packet data is stored in 'packet_array'.\n",
    "            \n",
    "            packet = block.packet_data\n",
    "            hex_data = packet.hex()\n",
    "            packet_array.append(hex_data)\n",
    "            #timestamp_seconds = block.timestamp_high\n",
    "            #timestamp_nanoseconds = block.timestamp_low\n",
    "            #timestamp = timestamp_seconds + timestamp_nanoseconds/int(1e6)\n",
    "            #leap_seconds = 37\n",
    "\n",
    "            #utc_timestamp = (timestamp_seconds - leap_seconds) + timestamp_nanoseconds / 1_000_000_000\n",
    "\n",
    "            #print(f\"Packet timestamp: {utc_timestamp} seconds\")\n",
    "\n",
    "class Packet:\n",
    "    def __init__(self, name, number, source_ip, data):\n",
    "        self.name = name\n",
    "        self.number = number\n",
    "        self.source_ip = source_ip\n",
    "        self.data = data\n",
    "\n",
    "from functions import *\n",
    "\n",
    "class Quabo:\n",
    "    def __init__(self, telescope, quadrant, address, datastream):\n",
    "        self.telescope = telescope\n",
    "        self.quadrant = quadrant\n",
    "        self.address = address\n",
    "        self.datastream = datastream\n",
    "\n",
    "quabo_1_1 = Quabo('telescope_1', 1, '192.168.0.4', np.array([]))\n",
    "quabo_1_2 = Quabo('telescope_1', 2, '192.168.0.5', np.array([]))\n",
    "quabo_1_3 = Quabo('telescope_1', 3, '192.168.0.6', np.array([]))\n",
    "quabo_1_4 = Quabo('telescope_1', 4, '192.168.0.7', np.array([]))\n",
    "#####\n",
    "quabo_2_1 = Quabo('telescope_2', 1, '192.168.0.12', np.array([]))\n",
    "quabo_2_2 = Quabo('telescope_2', 2, '192.168.0.13', np.array([]))\n",
    "quabo_2_3 = Quabo('telescope_2', 3, '192.168.0.14', np.array([]))\n",
    "quabo_2_4 = Quabo('telescope_2', 4, '192.168.0.15', np.array([]))\n",
    "#####\n",
    "quabo_3_1 = Quabo('telescope_3', 1, '192.168.3.248', np.array([]))\n",
    "quabo_3_2 = Quabo('telescope_3', 2, '192.168.3.249', np.array([]))\n",
    "quabo_3_3 = Quabo('telescope_3', 3, '192.168.3.250', np.array([]))\n",
    "quabo_3_4 = Quabo('telescope_3', 4, '192.168.3.251', np.array([]))\n",
    "\n",
    "class Telescope:\n",
    "    def __init__(self, name, dome, quabo_array):\n",
    "        self.name = name\n",
    "        self.dome = dome\n",
    "        self.quabo_array = quabo_array\n",
    "\n",
    "telescope_1 = Telescope('telescope_1', 'Astrograph', [quabo_1_1, quabo_1_2, quabo_1_3, quabo_1_4])\n",
    "telescope_2 = Telescope('telescope_2', 'Astrograph', [quabo_2_1, quabo_2_2, quabo_2_3, quabo_2_4])\n",
    "telescope_3 = Telescope('telescope_3', 'Barnard', [quabo_3_1, quabo_3_2, quabo_3_3, quabo_3_4])\n",
    "\n",
    "telescope_list = [telescope_1, telescope_2, telescope_3]\n",
    "\n",
    "print(\"Converting hexidecimal data to photon intensity...\")\n",
    "print(\"\\n\")\n",
    "\n",
    "image_list = []\n",
    "counter = 0\n",
    "\n",
    "for packet in packet_array:\n",
    "    packet_object = Packet('image'+str(counter), counter, get_image_source_ip(packet), row_splitter(packet))\n",
    "    for telescope in telescope_list:\n",
    "        for quabo in telescope.quabo_array:\n",
    "            if packet_object.source_ip == quabo.address:\n",
    "                quabo.datastream = np.append(quabo.datastream, row_splitter(packet))\n",
    "                \n",
    "    list_loading(packet_array, counter)\n",
    "    counter += 1"
   ]
  },
  {
   "cell_type": "code",
   "execution_count": 20,
   "id": "b62af144",
   "metadata": {},
   "outputs": [
    {
     "name": "stdout",
     "output_type": "stream",
     "text": [
      "[3111. 2835. 3425. ... 2599. 2808. 4192.]\n",
      "[array([3111., 2835., 3425., ..., 5537., 3333., 4751.]), array([2812., 3325., 3143., ..., 2988., 2838., 2349.]), array([2431., 2762., 2329., ..., 4101., 4581., 4149.]), array([2971., 3058., 3910., ..., 3257., 3562., 3401.]), array([2756., 2809., 2335., ..., 2929., 2838., 2565.]), array([2829., 3130., 2188., ..., 3096., 2561., 3715.]), array([3632., 2667., 3698., ..., 2946., 2976., 3355.]), array([2597., 2508., 2597., ..., 2480., 2747., 4220.]), array([3081., 2819., 3460., ..., 5331., 3226., 4787.]), array([2751., 3282., 3123., ..., 2984., 2900., 2230.]), array([2386., 2852., 2358., ..., 4177., 4073., 4024.]), array([3013., 2955., 3899., ..., 3202., 3558., 3399.]), array([2747., 2910., 2237., ..., 2873., 2813., 2561.]), array([2719., 3061., 2219., ..., 3038., 2500., 3656.]), array([3581., 2739., 3564., ..., 2927., 2871., 3282.]), array([2629., 2406., 2629., ..., 2599., 2808., 4192.])]\n",
      "39776\n"
     ]
    }
   ],
   "source": [
    "print(telescope_list[1].quabo_array[2].datastream)\n",
    "\n",
    "\n",
    "print(np.split(telescope_list[1].quabo_array[2].datastream, 16))\n",
    "\n",
    "test = np.split(telescope_list[1].quabo_array[2].datastream, 16)\n",
    "\n",
    "print(len(test[0]))"
   ]
  },
  {
   "cell_type": "code",
   "execution_count": 7,
   "id": "beeee987",
   "metadata": {},
   "outputs": [
    {
     "name": "stdout",
     "output_type": "stream",
     "text": [
      "[[1769, 2568, 1683, 2195, 1829, 1444, 1286, 1995, 2383, 2457, 2277, 1976, 2830, 1772, 1769, 2446], [1997, 1508, 2382, 1682, 1717, 1277, 1375, 1341, 1467, 2457, 1968, 1909, 1626, 2551, 2178, 1918], [2197, 1541, 2058, 1890, 1377, 912, 1144, 1558, 2249, 1504, 2448, 2016, 1565, 1587, 2079, 2196], [2206, 1746, 2304, 1874, 1921, 1852, 1909, 1747, 1766, 1428, 1510, 2276, 1946, 1607, 2243, 2159], [1800, 2192, 1726, 1763, 1431, 1568, 1555, 0, 1599, 1589, 1835, 2162, 2218, 1436, 3000, 2038], [1849, 1602, 1779, 1356, 1691, 1338, 1673, 2203, 1921, 1662, 2382, 2324, 1981, 35, 2055, 2187], [1976, 1853, 2077, 15, 1917, 1798, 1842, 1963, 1789, 2182, 1575, 2047, 2055, 1938, 2181, 2207], [2559, 1657, 1692, 1895, 1290, 1426, 1613, 2116, 1910, 1746, 1861, 2203, 2146, 2436, 3741, 1977], [1752, 1995, 1537, 1407, 1578, 1459, 2248, 2103, 2131, 1888, 1640, 2258, 1635, 2287, 2543, 2392], [1493, 1926, 1579, 2038, 1908, 1732, 1785, 1698, 2273, 2287, 2435, 1774, 2480, 2087, 2485, 5155], [3695, 1708, 3695, 2159, 1426, 1820, 1426, 1970, 1462, 2145, 1462, 1974, 2628, 2536, 2628, 3140], [2688, 1607, 1720, 1715, 1278, 1577, 2057, 2268, 2449, 2097, 2353, 2429, 1972, 1961, 1713, 2034], [2356, 1928, 2123, 2181, 0, 1555, 2110, 2324, 1204, 1375, 2452, 2560, 1415, 2253, 1724, 2412], [1636, 1695, 1529, 1647, 1964, 1797, 1667, 2237, 1743, 2677, 2250, 1577, 1628, 1308, 877, 2818], [1712, 2428, 1457, 1616, 1022, 1978, 1019, 1740, 2241, 2003, 2153, 2080, 1006, 2428, 2918, 2667], [1950, 2467, 1830, 1286, 2118, 2908, 1534, 1792, 1973, 2260, 1516, 2779, 1742, 1176, 2123, 2363]]\n",
      "16\n"
     ]
    }
   ],
   "source": [
    "print(row_splitter(packet_array[98]))\n",
    "print(len(row_splitter(packet_array[98])))"
   ]
  },
  {
   "cell_type": "code",
   "execution_count": 8,
   "id": "d228a268",
   "metadata": {},
   "outputs": [
    {
     "ename": "SyntaxError",
     "evalue": "expected ':' (2165010945.py, line 3)",
     "output_type": "error",
     "traceback": [
      "\u001b[1;36m  Cell \u001b[1;32mIn[8], line 3\u001b[1;36m\u001b[0m\n\u001b[1;33m    for element in row_split_packet\u001b[0m\n\u001b[1;37m                                   ^\u001b[0m\n\u001b[1;31mSyntaxError\u001b[0m\u001b[1;31m:\u001b[0m expected ':'\n"
     ]
    }
   ],
   "source": [
    "def image_maker(row_split_packet):\n",
    "    image = np.array([])\n",
    "    for element in row_split_packet"
   ]
  }
 ],
 "metadata": {
  "kernelspec": {
   "display_name": "Python 3 (ipykernel)",
   "language": "python",
   "name": "python3"
  },
  "language_info": {
   "codemirror_mode": {
    "name": "ipython",
    "version": 3
   },
   "file_extension": ".py",
   "mimetype": "text/x-python",
   "name": "python",
   "nbconvert_exporter": "python",
   "pygments_lexer": "ipython3",
   "version": "3.12.3"
  }
 },
 "nbformat": 4,
 "nbformat_minor": 5
}
